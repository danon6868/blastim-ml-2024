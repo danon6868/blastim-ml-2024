{
 "cells": [
  {
   "cell_type": "code",
   "execution_count": null,
   "id": "a2a8c227-3b63-4084-a0a1-eefddbf5bc7e",
   "metadata": {},
   "outputs": [],
   "source": []
  }
 ],
 "metadata": {
  "kernelspec": {
   "display_name": "configs_task",
   "language": "python",
   "name": "configs_task"
  },
  "language_info": {
   "codemirror_mode": {
    "name": "ipython",
    "version": 3
   },
   "file_extension": ".py",
   "mimetype": "text/x-python",
   "name": "python",
   "nbconvert_exporter": "python",
   "pygments_lexer": "ipython3",
   "version": "3.9.7"
  }
 },
 "nbformat": 4,
 "nbformat_minor": 5
}
